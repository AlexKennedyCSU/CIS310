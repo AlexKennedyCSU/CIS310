{
 "cells": [
  {
   "cell_type": "markdown",
   "metadata": {},
   "source": [
    "# ramadan Abdunabi\n",
    "## wk5 09/22/2020\n",
    "# Python Statements [if,else,elif]"
   ]
  },
  {
   "cell_type": "code",
   "execution_count": 1,
   "metadata": {},
   "outputs": [
    {
     "ename": "SyntaxError",
     "evalue": "invalid syntax (<ipython-input-1-c614f2876122>, line 2)",
     "output_type": "error",
     "traceback": [
      "\u001b[1;36m  File \u001b[1;32m\"<ipython-input-1-c614f2876122>\"\u001b[1;36m, line \u001b[1;32m2\u001b[0m\n\u001b[1;33m    perform action 1\u001b[0m\n\u001b[1;37m                 ^\u001b[0m\n\u001b[1;31mSyntaxError\u001b[0m\u001b[1;31m:\u001b[0m invalid syntax\n"
     ]
    }
   ],
   "source": [
    "if condition1:\n",
    "    perform action 1\n",
    "    elif condition2:\n",
    "        perform condition 2\n",
    "        else:\n",
    "            perform action 3"
   ]
  },
  {
   "cell_type": "code",
   "execution_count": 2,
   "metadata": {},
   "outputs": [
    {
     "name": "stdout",
     "output_type": "stream",
     "text": [
      "it was right\n"
     ]
    }
   ],
   "source": [
    "if True: \n",
    "    print(\"it was right\")"
   ]
  },
  {
   "cell_type": "code",
   "execution_count": 5,
   "metadata": {},
   "outputs": [
    {
     "name": "stdout",
     "output_type": "stream",
     "text": [
      "hi 5\n"
     ]
    }
   ],
   "source": [
    "value =5\n",
    "\n",
    "if value ==5:\n",
    "    print (\"hi 5\")\n",
    "else:\n",
    "    print(\"not cool!\")"
   ]
  },
  {
   "cell_type": "code",
   "execution_count": 11,
   "metadata": {},
   "outputs": [
    {
     "name": "stdout",
     "output_type": "stream",
     "text": [
      "my brother name billo!\n"
     ]
    }
   ],
   "source": [
    "test1 = 40\n",
    "test2 = 87\n",
    "if test1<test2:\n",
    "    print(\"my brother name billo!\")\n",
    "  "
   ]
  },
  {
   "cell_type": "code",
   "execution_count": 12,
   "metadata": {},
   "outputs": [
    {
     "ename": "SyntaxError",
     "evalue": "invalid syntax (<ipython-input-12-e01c1b2fbd2f>, line 5)",
     "output_type": "error",
     "traceback": [
      "\u001b[1;36m  File \u001b[1;32m\"<ipython-input-12-e01c1b2fbd2f>\"\u001b[1;36m, line \u001b[1;32m5\u001b[0m\n\u001b[1;33m    elif test2<1\u001b[0m\n\u001b[1;37m       ^\u001b[0m\n\u001b[1;31mSyntaxError\u001b[0m\u001b[1;31m:\u001b[0m invalid syntax\n"
     ]
    }
   ],
   "source": [
    "test1 = 40\n",
    "test2 = 87\n",
    "if test1<test2:\n",
    "    print(\"my brother name billo!\")\n",
    "    elif test2<1\n",
    "     print(\"woah!\")"
   ]
  },
  {
   "cell_type": "code",
   "execution_count": 6,
   "metadata": {},
   "outputs": [
    {
     "name": "stdout",
     "output_type": "stream",
     "text": [
      "welcome to co\n"
     ]
    }
   ],
   "source": [
    "s = \"colorado\"\n",
    "\n",
    "if s == \"colorado\":\n",
    "    print(\"welcome to co\")\n",
    "\n",
    "elif s == \"florida\":\n",
    "    print(\"hi\")"
   ]
  },
  {
   "cell_type": "code",
   "execution_count": 9,
   "metadata": {},
   "outputs": [
    {
     "name": "stdout",
     "output_type": "stream",
     "text": [
      "both conditions are true!\n"
     ]
    }
   ],
   "source": [
    "#And\n",
    "s1=88\n",
    "s2=75\n",
    "s3=94\n",
    "\n",
    "if s1>s2 and s3>s2:\n",
    "    print(\"both conditions are true!\")"
   ]
  },
  {
   "cell_type": "code",
   "execution_count": 10,
   "metadata": {},
   "outputs": [],
   "source": [
    "#or logical operator\n",
    "if s1< s2 or s3< s2:\n",
    "    print(\"at least 1 of conditions is true\")"
   ]
  },
  {
   "cell_type": "code",
   "execution_count": 11,
   "metadata": {},
   "outputs": [
    {
     "ename": "SyntaxError",
     "evalue": "invalid syntax (<ipython-input-11-ef86b9746073>, line 9)",
     "output_type": "error",
     "traceback": [
      "\u001b[1;36m  File \u001b[1;32m\"<ipython-input-11-ef86b9746073>\"\u001b[1;36m, line \u001b[1;32m9\u001b[0m\n\u001b[1;33m    else:\u001b[0m\n\u001b[1;37m       ^\u001b[0m\n\u001b[1;31mSyntaxError\u001b[0m\u001b[1;31m:\u001b[0m invalid syntax\n"
     ]
    }
   ],
   "source": [
    "#nested if statement\n",
    "s1=80\n",
    "\n",
    "if s1>40:\n",
    "    print(\"turtles above 40\")\n",
    "    \n",
    "    if s1>60:\n",
    "        print(\"above 60\")\n",
    "        else:\n",
    "            print(\"not above 60.\")"
   ]
  },
  {
   "cell_type": "code",
   "execution_count": null,
   "metadata": {},
   "outputs": [],
   "source": [
    "if s1>60:\n",
    "    pass"
   ]
  }
 ],
 "metadata": {
  "kernelspec": {
   "display_name": "Python 3.7 - default",
   "language": "python",
   "name": "py37_default"
  },
  "language_info": {
   "codemirror_mode": {
    "name": "ipython",
    "version": 3
   },
   "file_extension": ".py",
   "mimetype": "text/x-python",
   "name": "python",
   "nbconvert_exporter": "python",
   "pygments_lexer": "ipython3",
   "version": "3.7.7"
  }
 },
 "nbformat": 4,
 "nbformat_minor": 4
}
