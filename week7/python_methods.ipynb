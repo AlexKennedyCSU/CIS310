{
 "cells": [
  {
   "cell_type": "markdown",
   "metadata": {},
   "source": [
    "# alex kennedy\n",
    "## week 7 10/08/2020\n",
    "### python methods"
   ]
  },
  {
   "cell_type": "code",
   "execution_count": 3,
   "metadata": {},
   "outputs": [
    {
     "name": "stdout",
     "output_type": "stream",
     "text": [
      "[5]\n",
      "{'a': [5], 'b': [5], 'e': [5], 'c': [5], 'd': [5]}\n",
      "[5, 1]\n",
      "{'a': [5], 'b': [5], 'e': [5], 'c': [5], 'd': [5]}\n"
     ]
    }
   ],
   "source": [
    "mylist = ['a','b','a','e','c','b','d','b',]\n",
    "value = [5]\n",
    "d= {k: list(value) for k in mylist}\n",
    "\n",
    "print(value)\n",
    "print(d)\n",
    "\n",
    "value.append(1)\n",
    "print(value)\n",
    "print(d)\n"
   ]
  },
  {
   "cell_type": "code",
   "execution_count": null,
   "metadata": {},
   "outputs": [],
   "source": []
  }
 ],
 "metadata": {
  "kernelspec": {
   "display_name": "Python 3.7 - default",
   "language": "python",
   "name": "py37_default"
  },
  "language_info": {
   "codemirror_mode": {
    "name": "ipython",
    "version": 3
   },
   "file_extension": ".py",
   "mimetype": "text/x-python",
   "name": "python",
   "nbconvert_exporter": "python",
   "pygments_lexer": "ipython3",
   "version": "3.7.7"
  }
 },
 "nbformat": 4,
 "nbformat_minor": 4
}
