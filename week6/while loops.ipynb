{
 "cells": [
  {
   "cell_type": "markdown",
   "metadata": {},
   "source": [
    "# alex kennedy\n",
    "## week6 - while loops \n",
    "# gen format for while loops in python"
   ]
  },
  {
   "cell_type": "code",
   "execution_count": 1,
   "metadata": {},
   "outputs": [
    {
     "name": "stdout",
     "output_type": "stream",
     "text": [
      "1\n",
      "2\n",
      "3\n",
      "4\n",
      "5\n"
     ]
    }
   ],
   "source": [
    "num=1\n",
    "while num<6:\n",
    "    print(num)\n",
    "    num+=1"
   ]
  },
  {
   "cell_type": "code",
   "execution_count": 2,
   "metadata": {},
   "outputs": [
    {
     "name": "stdout",
     "output_type": "stream",
     "text": [
      "1\n",
      "num is less than 6!!\n",
      "2\n",
      "num is less than 6!!\n",
      "3\n",
      "num is less than 6!!\n",
      "4\n",
      "num is less than 6!!\n",
      "5\n",
      "num is less than 6!!\n"
     ]
    }
   ],
   "source": [
    "num=1\n",
    "while num<6:\n",
    "    print(num)\n",
    "    print (\"num is less than 6!!\")\n",
    "    num+=1"
   ]
  },
  {
   "cell_type": "code",
   "execution_count": 6,
   "metadata": {},
   "outputs": [],
   "source": [
    "num=0\n",
    "while num< 10:\n",
    "    num+= 1\n",
    "    if num <5:\n",
    "        continue\n",
    "        print (\"num is currently!!\", num)\n",
    "        print (\"num isless than 6 yayayay\")\n",
    "        "
   ]
  },
  {
   "cell_type": "code",
   "execution_count": 8,
   "metadata": {},
   "outputs": [
    {
     "name": "stdout",
     "output_type": "stream",
     "text": [
      "num is currently!! 1\n",
      "num isless than 6 yayayay\n",
      "num is currently!! 2\n",
      "num isless than 6 yayayay\n",
      "num is currently!! 3\n",
      "num isless than 6 yayayay\n",
      "num is currently!! 4\n",
      "num isless than 6 yayayay\n",
      "num is currently!! 6\n",
      "num isless than 6 yayayay\n",
      "num is currently!! 7\n",
      "num isless than 6 yayayay\n",
      "num is currently!! 8\n",
      "num isless than 6 yayayay\n",
      "num is currently!! 9\n",
      "num isless than 6 yayayay\n",
      "num is currently!! 10\n",
      "num isless than 6 yayayay\n"
     ]
    }
   ],
   "source": [
    "num=0\n",
    "while num< 10:\n",
    "    num+= 1\n",
    "    if num ==5:\n",
    "        pass\n",
    "    else:\n",
    "        print (\"num is currently!!\", num)\n",
    "        print (\"num isless than 6 yayayay\")"
   ]
  },
  {
   "cell_type": "code",
   "execution_count": 10,
   "metadata": {},
   "outputs": [
    {
     "name": "stdout",
     "output_type": "stream",
     "text": [
      "num is currently!! 1\n",
      "num isless than 6 yayayay\n",
      "num is currently!! 2\n",
      "num isless than 6 yayayay\n",
      "num is currently!! 3\n",
      "num isless than 6 yayayay\n",
      "num is currently!! 4\n",
      "num isless than 6 yayayay\n",
      "num is currently!! 6\n",
      "num isless than 6 yayayay\n",
      "num is currently!! 7\n",
      "num isless than 6 yayayay\n",
      "num is currently!! 8\n",
      "num isless than 6 yayayay\n",
      "num is currently!! 9\n",
      "num isless than 6 yayayay\n",
      "num is currently!! 10\n",
      "num isless than 6 yayayay\n"
     ]
    }
   ],
   "source": [
    "num=0\n",
    "while num< 10:\n",
    "    num+= 1\n",
    "    if num ==5:\n",
    "        continue\n",
    "    else:\n",
    "        print (\"num is currently!!\", num)\n",
    "        print (\"num isless than 6 yayayay\")"
   ]
  },
  {
   "cell_type": "code",
   "execution_count": 12,
   "metadata": {},
   "outputs": [
    {
     "name": "stdout",
     "output_type": "stream",
     "text": [
      "num is currently!! 2\n",
      "num isless than 6 yayayay\n",
      "num is currently!! 4\n",
      "num isless than 6 yayayay\n",
      "num is currently!! 6\n",
      "num isless than 6 yayayay\n",
      "num is currently!! 8\n",
      "num isless than 6 yayayay\n",
      "num is currently!! 10\n",
      "num isless than 6 yayayay\n"
     ]
    }
   ],
   "source": [
    "num = 0\n",
    "while num< 10:\n",
    "    num+=1\n",
    "    if num % 2 == 0:\n",
    "        \n",
    "        print (\"num is currently!!\", num)\n",
    "        print (\"num isless than 6 yayayay\")\n",
    "        "
   ]
  },
  {
   "cell_type": "code",
   "execution_count": 13,
   "metadata": {},
   "outputs": [
    {
     "name": "stdout",
     "output_type": "stream",
     "text": [
      "num is currently!! 2\n",
      "num isless than 6 yayayay\n",
      "num is currently!! 4\n",
      "num isless than 6 yayayay\n",
      "num is currently!! 6\n",
      "num isless than 6 yayayay\n",
      "num is currently!! 8\n",
      "num isless than 6 yayayay\n",
      "num is currently!! 10\n",
      "num isless than 6 yayayay\n"
     ]
    }
   ],
   "source": [
    "num = 0\n",
    "while num< 10:\n",
    "    num+=1\n",
    "    if num % 2 == 0:\n",
    "        \n",
    "        print (\"num is currently!!\", num)\n",
    "        print (\"num isless than 6 yayayay\")"
   ]
  },
  {
   "cell_type": "code",
   "execution_count": null,
   "metadata": {},
   "outputs": [],
   "source": []
  }
 ],
 "metadata": {
  "kernelspec": {
   "display_name": "Python 3.7 - default",
   "language": "python",
   "name": "py37_default"
  },
  "language_info": {
   "codemirror_mode": {
    "name": "ipython",
    "version": 3
   },
   "file_extension": ".py",
   "mimetype": "text/x-python",
   "name": "python",
   "nbconvert_exporter": "python",
   "pygments_lexer": "ipython3",
   "version": "3.7.7"
  }
 },
 "nbformat": 4,
 "nbformat_minor": 4
}
